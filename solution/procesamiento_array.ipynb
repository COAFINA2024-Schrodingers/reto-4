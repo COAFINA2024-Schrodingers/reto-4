{
 "cells": [
  {
   "cell_type": "code",
   "execution_count": 3,
   "id": "575ca492",
   "metadata": {},
   "outputs": [],
   "source": [
    "#from modules import get_urls_json\n",
    "#get_urls_json.get_json_years()"
   ]
  },
  {
   "cell_type": "code",
   "execution_count": 4,
   "id": "847c6f97",
   "metadata": {},
   "outputs": [],
   "source": [
    "from modules import get_img_per_filter"
   ]
  },
  {
   "cell_type": "code",
   "execution_count": 5,
   "id": "1f018295",
   "metadata": {},
   "outputs": [],
   "source": [
    "# Cargar data desde 1996 hasta 2010\n",
    "data = get_img_per_filter.filter_dict_1996\n",
    "a_1996 = get_img_per_filter.get_per_year(data)"
   ]
  },
  {
   "cell_type": "code",
   "execution_count": 6,
   "id": "c6a26398",
   "metadata": {},
   "outputs": [],
   "source": [
    "# Cargar data desde 2010 hasta 2019\n",
    "data2 = get_img_per_filter.filter_dict_2011\n",
    "a_2011 = get_img_per_filter.get_per_year(data2)"
   ]
  },
  {
   "cell_type": "code",
   "execution_count": 20,
   "id": "398f7d28",
   "metadata": {},
   "outputs": [],
   "source": [
    "def check_dates(data):\n",
    "    for i in data:\n",
    "        print(i[0])"
   ]
  },
  {
   "cell_type": "code",
   "execution_count": 7,
   "id": "785c4372",
   "metadata": {},
   "outputs": [],
   "source": [
    "# Filtra aquellos valores None para la data de 1996 hasta 2010\n",
    "a_1996_mdiigr = a_1996['mdiigr']\n",
    "a_1996_mdiigr = [i for i in a_1996_mdiigr if i is not None]\n",
    "a_1996_mdiigr.sort(key=lambda x: x[0])\n",
    "\n",
    "a_1996_mdimag = a_1996['mdimag']\n",
    "a_1996_mdimag = [i for i in a_1996_mdimag if i is not None]\n",
    "a_1996_mdimag.sort(key=lambda x: x[0])"
   ]
  },
  {
   "cell_type": "code",
   "execution_count": 8,
   "id": "eaff1833",
   "metadata": {},
   "outputs": [],
   "source": [
    "# Filtra aquellos valores None para la data de 2010 hasta 2019\n",
    "a_2011_hmiigr = a_2011['hmiigr']\n",
    "a_2011_hmiigr = [i for i in a_2011_hmiigr if i is not None]\n",
    "a_2011_hmiigr.sort(key=lambda x: x[0])\n",
    "\n",
    "a_2011_hmimag = a_2011['hmimag']\n",
    "a_2011_hmimag = [i for i in a_2011_hmimag if i is not None]\n",
    "a_2011_hmimag.sort(key=lambda x: x[0])"
   ]
  },
  {
   "cell_type": "code",
   "execution_count": 21,
   "id": "b4493c3d",
   "metadata": {},
   "outputs": [],
   "source": [
    "a_1996_2006_mdiigr = [ tpl for tpl in a_1996_mdiigr if int(tpl[0])< 20070000]"
   ]
  }
 ],
 "metadata": {
  "kernelspec": {
   "display_name": "Python 3 (ipykernel)",
   "language": "python",
   "name": "python3"
  },
  "language_info": {
   "codemirror_mode": {
    "name": "ipython",
    "version": 3
   },
   "file_extension": ".py",
   "mimetype": "text/x-python",
   "name": "python",
   "nbconvert_exporter": "python",
   "pygments_lexer": "ipython3",
   "version": "3.8.12"
  }
 },
 "nbformat": 4,
 "nbformat_minor": 5
}
