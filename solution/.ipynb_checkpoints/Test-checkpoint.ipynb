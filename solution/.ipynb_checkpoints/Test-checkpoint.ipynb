{
 "cells": [
  {
   "cell_type": "code",
   "execution_count": 4,
   "id": "6c3b840c",
   "metadata": {},
   "outputs": [],
   "source": [
    "from modules import get_urls_json"
   ]
  },
  {
   "cell_type": "code",
   "execution_count": null,
   "id": "35cb548e",
   "metadata": {},
   "outputs": [
    {
     "name": "stdout",
     "output_type": "stream",
     "text": [
      "Finally all. Return is a list of len 213 outputs.\n"
     ]
    }
   ],
   "source": [
    "get_urls_json.get_json_years()"
   ]
  },
  {
   "cell_type": "code",
   "execution_count": 5,
   "id": "06ea5588",
   "metadata": {},
   "outputs": [],
   "source": [
    "from modules import get_img_per_filter"
   ]
  },
  {
   "cell_type": "code",
   "execution_count": 6,
   "id": "569642a8",
   "metadata": {},
   "outputs": [],
   "source": [
    "data = get_img_per_filter.filter_dict_1996\n",
    "a = get_img_per_filter.get_per_year(data)"
   ]
  },
  {
   "cell_type": "code",
   "execution_count": 7,
   "id": "f420e982",
   "metadata": {},
   "outputs": [],
   "source": [
    "filter_mdiigr = a['mdiigr']"
   ]
  },
  {
   "cell_type": "code",
   "execution_count": 2,
   "id": "3d99aba8",
   "metadata": {},
   "outputs": [
    {
     "name": "stdout",
     "output_type": "stream",
     "text": [
      "Defaulting to user installation because normal site-packages is not writeable\n",
      "Looking in indexes: https://pypi.org/simple, https://pypi.ngc.nvidia.com\n",
      "Collecting scikit-image\n",
      "  Downloading scikit_image-0.21.0-cp38-cp38-manylinux_2_17_x86_64.manylinux2014_x86_64.whl (13.9 MB)\n",
      "\u001b[K     |████████████████████████████████| 13.9 MB 460 kB/s eta 0:00:01\n",
      "\u001b[?25hCollecting scipy>=1.8\n",
      "  Downloading scipy-1.10.1-cp38-cp38-manylinux_2_17_x86_64.manylinux2014_x86_64.whl (34.5 MB)\n",
      "\u001b[K     |████████████████████████████████| 34.5 MB 132.4 MB/s eta 0:00:01\n",
      "\u001b[?25hCollecting networkx>=2.8\n",
      "  Downloading networkx-3.1-py3-none-any.whl (2.1 MB)\n",
      "\u001b[K     |████████████████████████████████| 2.1 MB 116.2 MB/s eta 0:00:01\n",
      "\u001b[?25hCollecting tifffile>=2022.8.12\n",
      "  Downloading tifffile-2023.7.10-py3-none-any.whl (220 kB)\n",
      "\u001b[K     |████████████████████████████████| 220 kB 122.6 MB/s eta 0:00:01\n",
      "\u001b[?25hCollecting lazy_loader>=0.2\n",
      "  Downloading lazy_loader-0.4-py3-none-any.whl (12 kB)\n",
      "Requirement already satisfied: packaging>=21 in /opt/conda/lib/python3.8/site-packages (from scikit-image) (21.3)\n",
      "Collecting PyWavelets>=1.1.1\n",
      "  Downloading PyWavelets-1.4.1-cp38-cp38-manylinux_2_17_x86_64.manylinux2014_x86_64.whl (6.9 MB)\n",
      "\u001b[K     |████████████████████████████████| 6.9 MB 78.5 MB/s eta 0:00:01\n",
      "\u001b[?25hCollecting imageio>=2.27\n",
      "  Downloading imageio-2.34.2-py3-none-any.whl (313 kB)\n",
      "\u001b[K     |████████████████████████████████| 313 kB 117.6 MB/s eta 0:00:01\n",
      "\u001b[?25hRequirement already satisfied: numpy>=1.21.1 in /opt/conda/lib/python3.8/site-packages (from scikit-image) (1.22.0)\n",
      "Collecting pillow>=9.0.1\n",
      "  Downloading pillow-10.4.0-cp38-cp38-manylinux_2_28_x86_64.whl (4.5 MB)\n",
      "\u001b[K     |████████████████████████████████| 4.5 MB 121.6 MB/s eta 0:00:01\n",
      "\u001b[?25hRequirement already satisfied: pyparsing!=3.0.5,>=2.0.2 in /opt/conda/lib/python3.8/site-packages (from packaging>=21->scikit-image) (3.0.6)\n",
      "Installing collected packages: pillow, tifffile, scipy, PyWavelets, networkx, lazy-loader, imageio, scikit-image\n",
      "\u001b[33m  WARNING: The scripts lsm2bin, tiff2fsspec, tiffcomment and tifffile are installed in '/home/hackathon0015/.local/bin' which is not on PATH.\n",
      "  Consider adding this directory to PATH or, if you prefer to suppress this warning, use --no-warn-script-location.\u001b[0m\n",
      "\u001b[33m  WARNING: The scripts imageio_download_bin and imageio_remove_bin are installed in '/home/hackathon0015/.local/bin' which is not on PATH.\n",
      "  Consider adding this directory to PATH or, if you prefer to suppress this warning, use --no-warn-script-location.\u001b[0m\n",
      "Successfully installed PyWavelets-1.4.1 imageio-2.34.2 lazy-loader-0.4 networkx-3.1 pillow-10.4.0 scikit-image-0.21.0 scipy-1.10.1 tifffile-2023.7.10\n",
      "Note: you may need to restart the kernel to use updated packages.\n"
     ]
    }
   ],
   "source": [
    "pip install scikit-image"
   ]
  },
  {
   "cell_type": "code",
   "execution_count": 17,
   "id": "85165346",
   "metadata": {},
   "outputs": [],
   "source": [
    "from modules import paquetitos as pq\n",
    "import cv2\n",
    "import matplotlib.pyplot as plt"
   ]
  },
  {
   "cell_type": "code",
   "execution_count": 13,
   "id": "d5f2094d",
   "metadata": {},
   "outputs": [],
   "source": [
    "prueba = filter_mdiigr[0][1]"
   ]
  },
  {
   "cell_type": "code",
   "execution_count": null,
   "id": "492836bc",
   "metadata": {},
   "outputs": [],
   "source": []
  },
  {
   "cell_type": "code",
   "execution_count": 18,
   "id": "954e97f1",
   "metadata": {},
   "outputs": [
    {
     "ename": "NameError",
     "evalue": "name 'plt' is not defined",
     "output_type": "error",
     "traceback": [
      "\u001b[0;31m---------------------------------------------------------------------------\u001b[0m",
      "\u001b[0;31mNameError\u001b[0m                                 Traceback (most recent call last)",
      "\u001b[0;32m/tmp/ipykernel_873043/774867353.py\u001b[0m in \u001b[0;36m<module>\u001b[0;34m\u001b[0m\n\u001b[1;32m     10\u001b[0m \u001b[0;34m\u001b[0m\u001b[0m\n\u001b[1;32m     11\u001b[0m \u001b[0;31m# Graficar\u001b[0m\u001b[0;34m\u001b[0m\u001b[0;34m\u001b[0m\u001b[0;34m\u001b[0m\u001b[0m\n\u001b[0;32m---> 12\u001b[0;31m \u001b[0mplt\u001b[0m\u001b[0;34m.\u001b[0m\u001b[0mfigure\u001b[0m\u001b[0;34m(\u001b[0m\u001b[0mfigsize\u001b[0m\u001b[0;34m=\u001b[0m\u001b[0;34m(\u001b[0m\u001b[0;36m12.8\u001b[0m\u001b[0;34m,\u001b[0m\u001b[0;36m9.6\u001b[0m\u001b[0;34m)\u001b[0m\u001b[0;34m)\u001b[0m\u001b[0;34m\u001b[0m\u001b[0;34m\u001b[0m\u001b[0m\n\u001b[0m\u001b[1;32m     13\u001b[0m \u001b[0;34m\u001b[0m\u001b[0m\n\u001b[1;32m     14\u001b[0m \u001b[0mplt\u001b[0m\u001b[0;34m.\u001b[0m\u001b[0msubplot\u001b[0m\u001b[0;34m(\u001b[0m\u001b[0;36m221\u001b[0m\u001b[0;34m)\u001b[0m\u001b[0;34m\u001b[0m\u001b[0;34m\u001b[0m\u001b[0m\n",
      "\u001b[0;31mNameError\u001b[0m: name 'plt' is not defined"
     ]
    }
   ],
   "source": [
    "# filtro\n",
    "u_down=80\n",
    "u_up=175\n",
    "\n",
    "# procesamiento\n",
    "image, gray_image, filter_image = pq.process_image512(prueba, u_down, u_up)\n",
    "\n",
    "# Histograma\n",
    "hist = cv2.calcHist([gray_image],[0],None,[256],[0,256])\n",
    "\n",
    "# Graficar\n",
    "plt.figure(figsize=(12.8,9.6))\n",
    "\n",
    "plt.subplot(221)\n",
    "plt.imshow(gray_image, \"gray\")\n",
    "\n",
    "plt.subplot(222)\n",
    "plt.plot(hist)\n",
    "plt.plot([u_down, u_down], [0, max(hist.flatten())], \"r\", label=f'Line at {u_down}')\n",
    "plt.plot([u_up, u_up], [0, max(hist.flatten())], \"r\", label=f'Line at {u_up}')\n",
    "plt.ylim([0,100])\n",
    "plt.grid(\"on\")\n",
    "\n",
    "plt.subplot(223)\n",
    "plt.imshow(filter_image, \"gray\")\n",
    "\n",
    "plt.show()"
   ]
  }
 ],
 "metadata": {
  "kernelspec": {
   "display_name": "Python 3 (ipykernel)",
   "language": "python",
   "name": "python3"
  },
  "language_info": {
   "codemirror_mode": {
    "name": "ipython",
    "version": 3
   },
   "file_extension": ".py",
   "mimetype": "text/x-python",
   "name": "python",
   "nbconvert_exporter": "python",
   "pygments_lexer": "ipython3",
   "version": "3.8.12"
  }
 },
 "nbformat": 4,
 "nbformat_minor": 5
}
